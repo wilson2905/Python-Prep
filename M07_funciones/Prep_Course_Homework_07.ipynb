{
 "cells": [
  {
   "attachments": {},
   "cell_type": "markdown",
   "metadata": {},
   "source": [
    "## Funciones"
   ]
  },
  {
   "attachments": {},
   "cell_type": "markdown",
   "metadata": {},
   "source": [
    "1) Crear una función que reciba un número como parámetro y devuelva True si es primo y False si no lo es"
   ]
  },
  {
   "cell_type": "code",
   "execution_count": 1,
   "metadata": {},
   "outputs": [],
   "source": [
    "def Primo (num):\n",
    "    esPrimo= False\n",
    "    for n in range(2,num):\n",
    "        if (Primo%2!=0) and (Primo%3!=0):\n",
    "            esPrimo= True\n",
    "        else:\n",
    "            esPrimo= False\n",
    "    return esPrimo"
   ]
  },
  {
   "attachments": {},
   "cell_type": "markdown",
   "metadata": {},
   "source": [
    "2) Utilizando la función del punto 1, realizar otra función que reciba de parámetro una lista de números y devuelva sólo aquellos que son primos en otra lista"
   ]
  },
  {
   "cell_type": "code",
   "execution_count": 3,
   "metadata": {},
   "outputs": [],
   "source": [
    "def Primo2 (lista):\n",
    "    listaSoloPrimo=[elemento for elemento in lista if (Primo(elemento))]\n",
    "    print(listaSoloPrimo)\n",
    "    return listaSoloPrimo\n"
   ]
  },
  {
   "attachments": {},
   "cell_type": "markdown",
   "metadata": {},
   "source": [
    "3) Crear una función que al recibir una lista de números, devuelva el que más se repite y cuántas veces lo hace. Si hay más de un \"más repetido\", que devuelva cualquiera"
   ]
  },
  {
   "cell_type": "code",
   "execution_count": 7,
   "metadata": {},
   "outputs": [],
   "source": [
    "def Repetidos(listaNum):\n",
    "\n",
    "    caja=[]\n",
    "    cantidad=[]\n",
    "    caja[0]=listaNum[0]\n",
    "    k=0\n",
    "    r=0\n",
    "    while n < len(listaNum):\n",
    "        if listaNum[n]== caja[k]:\n",
    "            cantidad.append(1)\n",
    "            n+=0\n",
    "        else:\n",
    "            caja[k]=listaNum[n]\n",
    "            n+=0\n",
    "            k+=0\n",
    "    print(listaNum)\n",
    "\n",
    "\n",
    "    "
   ]
  },
  {
   "attachments": {},
   "cell_type": "markdown",
   "metadata": {},
   "source": [
    "4) Crear una función que convierta entre grados Celsius, Farenheit y Kelvin<br>\n",
    "Fórmula 1\t: (°C × 9/5) + 32 = °F<br>\n",
    "Fórmula 2\t: °C + 273.15 = °K<br>\n",
    "Debe recibir 3 parámetros: el valor, la medida de orígen y la medida de destino\n"
   ]
  },
  {
   "cell_type": "code",
   "execution_count": 9,
   "metadata": {},
   "outputs": [],
   "source": [
    "def Grados(valor,origen,destino):\n",
    "    \n",
    "    if (origen== \"Celsius\"):            #analizar segun destino celsius\n",
    "        if (destino==\"Kelvin\"):       \n",
    "            Kelvin= (valor + 273.15)        #conversion celsius a kelvin\n",
    "            return Kelvin\n",
    "        elif (destino==\"Farenheit\"):\n",
    "            Farenheit=(valor * 9/5) + 32    #conversion de celsius a farenheit\n",
    "            return Farenheit\n",
    "        else:\n",
    "            return valor                   #si no se dan las anteriores, se devuelve\n",
    "    \n",
    "    if (origen== \"Kelvin\"):            #analizar segun destino kelvin\n",
    "        if (destino==\"Celsius\"):       \n",
    "            Celsius= (valor - 273.15)        #conversion de kelvin a celsius\n",
    "            return Celsius\n",
    "        elif (destino==\"Farenheit\"):\n",
    "            Farenheit=((valor - 273.15) * 9 / 5) + 32    #conversion de kelvin a farenheit\n",
    "            return Farenheit\n",
    "        else:\n",
    "            return valor                   #si no se dan las anteriores, se devuelve\n",
    "    \n",
    "    if (origen== \"Farenheit\"):            #analizar segun destino farenheit\n",
    "        if (destino==\"Celsius\"):       \n",
    "            Celsius= (valor - 32) * 5 / 9        #conversion de farenheit a celsius\n",
    "            return Celsius\n",
    "        elif (destino==\"Kelvin\"):\n",
    "            Farenheit=((valor - 32) * 5 / 9) + 273.15   #conversion de farenheit a kelvin\n",
    "            return Farenheit\n",
    "        else:\n",
    "            return valor                   #si no se dan las anteriores, se devuelve\n",
    "\n",
    "    \n",
    "    \n",
    "    \n",
    "\n",
    "        \n",
    "      \n",
    "     \n",
    "    "
   ]
  },
  {
   "attachments": {},
   "cell_type": "markdown",
   "metadata": {},
   "source": [
    "5) Iterando una lista con los tres valores posibles de temperatura que recibe la función del punto 5, hacer un print para cada combinación de los mismos:"
   ]
  },
  {
   "cell_type": "code",
   "execution_count": 10,
   "metadata": {},
   "outputs": [
    {
     "name": "stdout",
     "output_type": "stream",
     "text": [
      "1 grado Celsius a Celsius : 1\n",
      "1 grado Celsius a Kelvin : 274.15\n",
      "1 grado Celsius a Farenheit : 33.8\n",
      "1 grado Kelvin a Celsius : -272.15\n",
      "1 grado Kelvin a Kelvin : 1\n",
      "1 grado Kelvin a Farenheit : -457.87\n",
      "1 grado Farenheit a Celsius : -17.22222222222222\n",
      "1 grado Farenheit a Kelvin : 255.92777777777775\n",
      "1 grado Farenheit a Farenheit : 1\n"
     ]
    }
   ],
   "source": [
    "\n",
    "metricas = ['Celsius', 'Kelvin', 'Farenheit']  \n",
    "for i in range(0, 3):  \n",
    "    for j in range(0, 3):  \n",
    "        print('1 grado', metricas[i], 'a', metricas[j], ':', Grados(1, metricas[i], metricas[j]))\n"
   ]
  },
  {
   "attachments": {},
   "cell_type": "markdown",
   "metadata": {},
   "source": [
    "6) Armar una función que devuelva el factorial de un número. Tener en cuenta que el usuario puede equivocarse y enviar de parámetro un número no entero o negativo"
   ]
  },
  {
   "cell_type": "code",
   "execution_count": 11,
   "metadata": {},
   "outputs": [],
   "source": [
    "def factorial(num):\n",
    "    if (num-num !=0) or (type(num)==float):\n",
    "        return (\"numero incorrecto\")\n",
    "    else:\n",
    "        if (numero > 1):\n",
    "           numero = numero * factorial(numero - 1)\n",
    "        return numero"
   ]
  }
 ],
 "metadata": {
  "interpreter": {
   "hash": "c85384e4cb51c8b72350f3a8712cc8351fdc3955e32a27f9b60c6242ab125f01"
  },
  "kernelspec": {
   "display_name": "Python 3 (ipykernel)",
   "language": "python",
   "name": "python3"
  },
  "language_info": {
   "codemirror_mode": {
    "name": "ipython",
    "version": 3
   },
   "file_extension": ".py",
   "mimetype": "text/x-python",
   "name": "python",
   "nbconvert_exporter": "python",
   "pygments_lexer": "ipython3",
   "version": "3.10.12"
  }
 },
 "nbformat": 4,
 "nbformat_minor": 4
}
