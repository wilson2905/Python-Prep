{
 "cells": [
  {
   "attachments": {},
   "cell_type": "markdown",
   "metadata": {},
   "source": [
    "## Clases y Programación Orientada a Objetos"
   ]
  },
  {
   "attachments": {},
   "cell_type": "markdown",
   "metadata": {},
   "source": [
    "1) Crear la clase vehículo que contenga los atributos:<br>\n",
    "Color<br>\n",
    "Si es moto, auto, camioneta ó camión<br>\n",
    "Cilindrada del motor"
   ]
  },
  {
   "cell_type": "code",
   "execution_count": 2,
   "metadata": {},
   "outputs": [],
   "source": [
    "class Vehiculo():\n",
    "    def __init__(self,color,tipo,cilindrada):\n",
    "        Vehiculo.color=color\n",
    "        Vehiculo.tipo=tipo\n",
    "        Vehiculo.cilindrada=cilindrada"
   ]
  },
  {
   "attachments": {},
   "cell_type": "markdown",
   "metadata": {},
   "source": [
    "2) A la clase Vehiculo creada en el punto 1, agregar los siguientes métodos:<br>\n",
    "Acelerar<br>\n",
    "Frenar<br>\n",
    "Doblar<br>"
   ]
  },
  {
   "cell_type": "code",
   "execution_count": 4,
   "metadata": {},
   "outputs": [],
   "source": [
    "class Vehiculo:\n",
    "    def __init__(self,color,tipo,cilindrada):\n",
    "        Vehiculo.color=color\n",
    "        Vehiculo.tipo=tipo\n",
    "        Vehiculo.cilindrada=cilindrada\n",
    "        Vehiculo.Estado=0\n",
    "        Vehiculo.Direccion=\"Recto\"\n",
    "    \n",
    "    def Acelerar(self,acel):\n",
    "        Vehiculo.Estado+=acel\n",
    "    def Frenar(self,fren):\n",
    "        Vehiculo.Estado-=fren\n",
    "    def Doblar(self,dire):\n",
    "        Vehiculo.Direccion=dire\n"
   ]
  },
  {
   "attachments": {},
   "cell_type": "markdown",
   "metadata": {},
   "source": [
    "3) Instanciar 3 objetos de la clase vehículo y ejecutar sus métodos, probar luego el resultado"
   ]
  },
  {
   "cell_type": "code",
   "execution_count": 5,
   "metadata": {},
   "outputs": [
    {
     "name": "stdout",
     "output_type": "stream",
     "text": [
      "10\n",
      "-3\n",
      "izquierda\n"
     ]
    }
   ],
   "source": [
    "auto1=Vehiculo(\"rojo\",\"auto\",\"850\")\n",
    "auto2=Vehiculo(\"azul\",\"camioneta\",\"3.0\")\n",
    "auto3=Vehiculo(\"blanco\",\"camion\",\"7\")\n",
    "\n",
    "\n",
    "auto1.Acelerar(10)\n",
    "print(auto1.Estado)\n",
    "auto2.Frenar(13)\n",
    "print(auto2.Estado)\n",
    "auto3.Doblar(\"izquierda\")\n",
    "print(auto3.Direccion)\n"
   ]
  },
  {
   "attachments": {},
   "cell_type": "markdown",
   "metadata": {},
   "source": [
    "4) Agregar a la clase Vehiculo, un método que muestre su estado, es decir, a que velocidad se encuentra y su dirección. Y otro método que muestre color, tipo y cilindrada"
   ]
  },
  {
   "cell_type": "code",
   "execution_count": 31,
   "metadata": {},
   "outputs": [
    {
     "name": "stdout",
     "output_type": "stream",
     "text": [
      "velocidad y direccion respectivamente  0 Recto\n",
      "color  rojo tipo  auto cilindrada  850\n"
     ]
    }
   ],
   "source": [
    "class Vehiculo:\n",
    "    def __init__(self,color,tipo,cilindrada):\n",
    "        self.color=color\n",
    "        self.tipo=tipo\n",
    "        self.cilindrada=cilindrada\n",
    "        self.Esta=0\n",
    "        self.Direccion=\"Recto\"\n",
    "    \n",
    "    def Acelerar(self,acel):\n",
    "        self.Esta+=acel\n",
    "    def Frenar(self,fren):\n",
    "        self.Esta-=fren\n",
    "    def Doblar(self,dire):\n",
    "        self.Direccion=dire\n",
    "\n",
    "    def Estado(self):\n",
    "        print(\"velocidad y direccion respectivamente \", self.Esta, self.Direccion )\n",
    "\n",
    "    def Detalle(self):\n",
    "        print(\"color \", self.color, \"tipo \", self.tipo, \"cilindrada \", self.cilindrada)\n",
    "\n",
    "\n",
    "auto1=Vehiculo(\"rojo\",\"auto\",\"850\")\n",
    "auto2=Vehiculo(\"azul\",\"camioneta\",\"3.0\")\n",
    "auto3=Vehiculo(\"blanco\",\"camion\",\"7\")\n",
    "\n",
    "auto1.Estado()\n",
    "auto1.Detalle()"
   ]
  },
  {
   "attachments": {},
   "cell_type": "markdown",
   "metadata": {},
   "source": [
    "5) Crear una clase que permita utilizar las funciones creadas en la práctica del módulo 7<br>\n",
    "Verificar Primo<br>\n",
    "Valor modal<br>\n",
    "Conversión grados<br>\n",
    "Factorial<br>"
   ]
  },
  {
   "cell_type": "code",
   "execution_count": 36,
   "metadata": {},
   "outputs": [],
   "source": [
    "class Herramientas:\n",
    "    def __init__(self):\n",
    "        pass\n",
    "    \n",
    "    def Primo (self,num):\n",
    "        esPrimo= False\n",
    "        for n in range(2,num):\n",
    "            if (num%2!=0) and (num%3!=0):\n",
    "                esPrimo= True\n",
    "            else:\n",
    "                esPrimo= False\n",
    "        return esPrimo\n",
    "\n",
    "    def Repetidos(self,listaNum):\n",
    "        caja=[]\n",
    "        cantidad=[]\n",
    "        caja[0]=listaNum[0]\n",
    "        k=0\n",
    "        r=0\n",
    "        while n < len(listaNum):\n",
    "            if listaNum[n]== caja[k]:\n",
    "                cantidad.append(1)\n",
    "                n+=0\n",
    "            else:\n",
    "                caja[k]=listaNum[n]\n",
    "                n+=0\n",
    "                k+=0\n",
    "        print(listaNum)\n",
    "\n",
    "    def Grados(self,valor,origen,destino):\n",
    "        if (origen== \"Celsius\"):            #analizar segun destino celsius\n",
    "            if (destino==\"Kelvin\"):       \n",
    "                Kelvin= (valor + 273.15)        #conversion celsius a kelvin\n",
    "                return Kelvin\n",
    "            elif (destino==\"Farenheit\"):\n",
    "                Farenheit=(valor * 9/5) + 32    #conversion de celsius a farenheit\n",
    "                return Farenheit\n",
    "            else:\n",
    "                return valor                   #si no se dan las anteriores, se devuelve\n",
    "    \n",
    "        if (origen== \"Kelvin\"):            #analizar segun destino kelvin\n",
    "            if (destino==\"Celsius\"):       \n",
    "                Celsius= (valor - 273.15)        #conversion de kelvin a celsius\n",
    "                return Celsius\n",
    "            elif (destino==\"Farenheit\"):\n",
    "                Farenheit=((valor - 273.15) * 9 / 5) + 32    #conversion de kelvin a farenheit\n",
    "                return Farenheit\n",
    "            else:\n",
    "                return valor                   #si no se dan las anteriores, se devuelve\n",
    "        if (origen== \"Farenheit\"):            #analizar segun destino farenheit\n",
    "            if (destino==\"Celsius\"):       \n",
    "                Celsius= (valor - 32) * 5 / 9        #conversion de farenheit a celsius\n",
    "                return Celsius\n",
    "            elif (destino==\"Kelvin\"):\n",
    "                Farenheit=((valor - 32) * 5 / 9) + 273.15   #conversion de farenheit a kelvin\n",
    "                return Farenheit\n",
    "            else:\n",
    "                return valor                   #si no se dan las anteriores, se devuelve\n",
    "\n",
    "    def factorial(self,num):\n",
    "        if (num-num !=0) or (type(num)==float):\n",
    "            return (\"numero incorrecto\")\n",
    "        else:\n",
    "            if (numero > 1):\n",
    "                numero = numero * num(numero - 1)\n",
    "            return numero\n",
    "        \n",
    "aux3= Herramientas()\n"
   ]
  },
  {
   "attachments": {},
   "cell_type": "markdown",
   "metadata": {},
   "source": [
    "6) Probar las funciones incorporadas en la clase del punto 5"
   ]
  },
  {
   "cell_type": "code",
   "execution_count": 38,
   "metadata": {},
   "outputs": [
    {
     "data": {
      "text/plain": [
       "False"
      ]
     },
     "execution_count": 38,
     "metadata": {},
     "output_type": "execute_result"
    }
   ],
   "source": [
    "aux3.Primo(6)"
   ]
  },
  {
   "attachments": {},
   "cell_type": "markdown",
   "metadata": {},
   "source": [
    "7) Es necesario que la clase creada en el punto 5 contenga una lista, sobre la cual se apliquen las funciones incorporadas"
   ]
  },
  {
   "cell_type": "code",
   "execution_count": 40,
   "metadata": {},
   "outputs": [],
   "source": [
    "class Herramientas:\n",
    "    def __init__(self,listaNumeros):\n",
    "        self.lista=listaNumeros\n",
    "    \n",
    "    def Primo (self,num):\n",
    "        esPrimo= False\n",
    "        for n in range(2,num):\n",
    "            if (num%2!=0) and (num%3!=0):\n",
    "                esPrimo= True\n",
    "            else:\n",
    "                esPrimo= False\n",
    "        return esPrimo\n",
    "\n",
    "    def Repetidos(self,listaNum):\n",
    "        caja=[]\n",
    "        cantidad=[]\n",
    "        caja[0]=listaNum[0]\n",
    "        k=0\n",
    "        r=0\n",
    "        while n < len(listaNum):\n",
    "            if listaNum[n]== caja[k]:\n",
    "                cantidad.append(1)\n",
    "                n+=0\n",
    "            else:\n",
    "                caja[k]=listaNum[n]\n",
    "                n+=0\n",
    "                k+=0\n",
    "        print(listaNum)\n",
    "\n",
    "    def Grados(self,valor,origen,destino):\n",
    "        if (origen== \"Celsius\"):            #analizar segun destino celsius\n",
    "            if (destino==\"Kelvin\"):       \n",
    "                Kelvin= (valor + 273.15)        #conversion celsius a kelvin\n",
    "                return Kelvin\n",
    "            elif (destino==\"Farenheit\"):\n",
    "                Farenheit=(valor * 9/5) + 32    #conversion de celsius a farenheit\n",
    "                return Farenheit\n",
    "            else:\n",
    "                return valor                   #si no se dan las anteriores, se devuelve\n",
    "    \n",
    "        if (origen== \"Kelvin\"):            #analizar segun destino kelvin\n",
    "            if (destino==\"Celsius\"):       \n",
    "                Celsius= (valor - 273.15)        #conversion de kelvin a celsius\n",
    "                return Celsius\n",
    "            elif (destino==\"Farenheit\"):\n",
    "                Farenheit=((valor - 273.15) * 9 / 5) + 32    #conversion de kelvin a farenheit\n",
    "                return Farenheit\n",
    "            else:\n",
    "                return valor                   #si no se dan las anteriores, se devuelve\n",
    "        if (origen== \"Farenheit\"):            #analizar segun destino farenheit\n",
    "            if (destino==\"Celsius\"):       \n",
    "                Celsius= (valor - 32) * 5 / 9        #conversion de farenheit a celsius\n",
    "                return Celsius\n",
    "            elif (destino==\"Kelvin\"):\n",
    "                Farenheit=((valor - 32) * 5 / 9) + 273.15   #conversion de farenheit a kelvin\n",
    "                return Farenheit\n",
    "            else:\n",
    "                return valor                   #si no se dan las anteriores, se devuelve\n",
    "\n",
    "    def factorial(self,num):\n",
    "        if (num-num !=0) or (type(num)==float):\n",
    "            return (\"numero incorrecto\")\n",
    "        else:\n",
    "            if (numero > 1):\n",
    "                numero = numero * num(numero - 1)\n",
    "            return numero\n",
    "        \n"
   ]
  },
  {
   "attachments": {},
   "cell_type": "markdown",
   "metadata": {},
   "source": [
    "8) Crear un archivo .py aparte y ubicar allí la clase generada en el punto anterior. Luego realizar la importación del módulo y probar alguna de sus funciones"
   ]
  },
  {
   "cell_type": "code",
   "execution_count": 14,
   "metadata": {},
   "outputs": [
    {
     "ename": "NameError",
     "evalue": "name 'factorial' is not defined",
     "output_type": "error",
     "traceback": [
      "\u001b[1;31m---------------------------------------------------------------------------\u001b[0m",
      "\u001b[1;31mNameError\u001b[0m                                 Traceback (most recent call last)",
      "Cell \u001b[1;32mIn[14], line 5\u001b[0m\n\u001b[0;32m      1\u001b[0m \u001b[39mfrom\u001b[39;00m \u001b[39mmiModulo\u001b[39;00m \u001b[39mimport\u001b[39;00m \u001b[39m*\u001b[39m\n\u001b[0;32m      3\u001b[0m h2 \u001b[39m=\u001b[39m Herramientas([\u001b[39m1\u001b[39m,\u001b[39m1\u001b[39m,\u001b[39m2\u001b[39m,\u001b[39m3\u001b[39m,\u001b[39m5\u001b[39m,\u001b[39m6\u001b[39m,\u001b[39m8\u001b[39m,\u001b[39m8\u001b[39m])\n\u001b[1;32m----> 5\u001b[0m h2\u001b[39m=\u001b[39m factorial()\n",
      "\u001b[1;31mNameError\u001b[0m: name 'factorial' is not defined"
     ]
    }
   ],
   "source": [
    "from miModulo import *\n",
    "\n",
    "h2 = Herramientas([1,1,2,3,5,6,8,8])\n",
    "\n",
    "h2= factorial()\n"
   ]
  },
  {
   "cell_type": "code",
   "execution_count": null,
   "metadata": {},
   "outputs": [],
   "source": []
  }
 ],
 "metadata": {
  "interpreter": {
   "hash": "c85384e4cb51c8b72350f3a8712cc8351fdc3955e32a27f9b60c6242ab125f01"
  },
  "kernelspec": {
   "display_name": "Python 3 (ipykernel)",
   "language": "python",
   "name": "python3"
  },
  "language_info": {
   "codemirror_mode": {
    "name": "ipython",
    "version": 3
   },
   "file_extension": ".py",
   "mimetype": "text/x-python",
   "name": "python",
   "nbconvert_exporter": "python",
   "pygments_lexer": "ipython3",
   "version": "3.11.5"
  }
 },
 "nbformat": 4,
 "nbformat_minor": 4
}
